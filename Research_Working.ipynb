{
  "nbformat": 4,
  "nbformat_minor": 0,
  "metadata": {
    "colab": {
      "name": "Research_Working",
      "provenance": [],
      "collapsed_sections": [],
      "mount_file_id": "1MSvXAES8J4RjMuiscQiV9xl5HkUdFKE-",
      "authorship_tag": "ABX9TyO6KsZtSbsbDVNXxNZqzOnX",
      "include_colab_link": true
    },
    "kernelspec": {
      "name": "python3",
      "display_name": "Python 3"
    },
    "language_info": {
      "name": "python"
    }
  },
  "cells": [
    {
      "cell_type": "markdown",
      "metadata": {
        "id": "view-in-github",
        "colab_type": "text"
      },
      "source": [
        "<a href=\"https://colab.research.google.com/github/thechamppc/Research/blob/main/Research_Working.ipynb\" target=\"_parent\"><img src=\"https://colab.research.google.com/assets/colab-badge.svg\" alt=\"Open In Colab\"/></a>"
      ]
    },
    {
      "cell_type": "code",
      "execution_count": 33,
      "metadata": {
        "colab": {
          "base_uri": "https://localhost:8080/"
        },
        "id": "tzaxZT6YFTSu",
        "outputId": "1ae18b28-4d48-43fc-dd63-1b626c5a344a"
      },
      "outputs": [
        {
          "output_type": "stream",
          "name": "stdout",
          "text": [
            "n: 20 false_positive: 0.045454547 false_negative: 0.09090909 accuracy: 0.8636364\n",
            "n: 20 false_positive: 0.09090909 false_negative: 0.045454547 accuracy: 0.8636364\n",
            "n: 40 false_positive: 0.0 false_negative: 0.0 accuracy: 1.0\n",
            "n: 40 false_positive: 0.0625 false_negative: 0.0625 accuracy: 0.875\n",
            "n: 60 false_positive: 0.045454547 false_negative: 0.045454547 accuracy: 0.90909094\n",
            "n: 60 false_positive: 0.071428575 false_negative: 0.0 accuracy: 0.9285714\n",
            "n: 80 false_positive: 0.045454547 false_negative: 0.0 accuracy: 0.95454544\n",
            "n: 80 false_positive: 0.045454547 false_negative: 0.045454547 accuracy: 0.90909094\n"
          ]
        }
      ],
      "source": [
        "!bash /run_trials.sh /app_permission_vectors.json"
      ]
    },
    {
      "cell_type": "code",
      "source": [
        "!apt update -qq"
      ],
      "metadata": {
        "colab": {
          "base_uri": "https://localhost:8080/"
        },
        "id": "dGI9j7j1z3In",
        "outputId": "a5d28373-749a-4270-d67e-d0d908bbfcfa"
      },
      "execution_count": 8,
      "outputs": [
        {
          "output_type": "stream",
          "name": "stdout",
          "text": [
            "69 packages can be upgraded. Run 'apt list --upgradable' to see them.\n"
          ]
        }
      ]
    },
    {
      "cell_type": "code",
      "source": [
        "!apt list --upgradable"
      ],
      "metadata": {
        "colab": {
          "base_uri": "https://localhost:8080/"
        },
        "id": "y4W80WwL0Tvi",
        "outputId": "e931ddc3-77c8-4f96-b981-470fe4f30d85"
      },
      "execution_count": 11,
      "outputs": [
        {
          "output_type": "stream",
          "name": "stdout",
          "text": [
            "\rListing... 0%\r\rListing... 0%\r\rListing... 0%\r\rListing... Done\r\n",
            "\u001b[32mbase-files\u001b[0m/bionic-updates 10.1ubuntu2.11 amd64 [upgradable from: 10.1ubuntu2.10]\n",
            "\u001b[32mbinutils\u001b[0m/bionic-updates,bionic-security 2.30-21ubuntu1~18.04.7 amd64 [upgradable from: 2.30-21ubuntu1~18.04.4]\n",
            "\u001b[32mbinutils-common\u001b[0m/bionic-updates,bionic-security 2.30-21ubuntu1~18.04.7 amd64 [upgradable from: 2.30-21ubuntu1~18.04.4]\n",
            "\u001b[32mbinutils-x86-64-linux-gnu\u001b[0m/bionic-updates,bionic-security 2.30-21ubuntu1~18.04.7 amd64 [upgradable from: 2.30-21ubuntu1~18.04.4]\n",
            "\u001b[32mgnupg2\u001b[0m/bionic-updates 2.2.4-1ubuntu1.4 all [upgradable from: 2.2.4-1ubuntu1.3]\n",
            "\u001b[32mgzip\u001b[0m/bionic-updates 1.6-5ubuntu1.1 amd64 [upgradable from: 1.6-5ubuntu1]\n",
            "\u001b[32mlibaudit-common\u001b[0m/bionic-updates 1:2.8.2-1ubuntu1.1 all [upgradable from: 1:2.8.2-1ubuntu1]\n",
            "\u001b[32mlibaudit1\u001b[0m/bionic-updates 1:2.8.2-1ubuntu1.1 amd64 [upgradable from: 1:2.8.2-1ubuntu1]\n",
            "\u001b[32mlibbinutils\u001b[0m/bionic-updates,bionic-security 2.30-21ubuntu1~18.04.7 amd64 [upgradable from: 2.30-21ubuntu1~18.04.4]\n",
            "\u001b[32mlibc-bin\u001b[0m/bionic-updates,bionic-security 2.27-3ubuntu1.5 amd64 [upgradable from: 2.27-3ubuntu1.3]\n",
            "\u001b[32mlibcublas-dev\u001b[0m/unknown 10.2.3.254-1 amd64 [upgradable from: 10.2.1.243-1]\n",
            "\u001b[32mlibcublas10\u001b[0m/unknown 10.2.3.254-1 amd64 [upgradable from: 10.2.1.243-1]\n",
            "\u001b[32mlibcudnn7\u001b[0m/unknown 7.6.5.32-1+cuda10.2 amd64 [upgradable from: 7.6.5.32-1+cuda10.1]\n",
            "\u001b[32mlibcudnn7-dev\u001b[0m/unknown 7.6.5.32-1+cuda10.2 amd64 [upgradable from: 7.6.5.32-1+cuda10.1]\n",
            "\u001b[32mlibcudnn8\u001b[0m/unknown 8.3.3.40-1+cuda11.5 amd64 [upgradable from: 8.0.5.39-1+cuda11.1]\n",
            "\u001b[32mlibcudnn8-dev\u001b[0m/unknown 8.3.3.40-1+cuda11.5 amd64 [upgradable from: 8.0.5.39-1+cuda11.1]\n",
            "\u001b[32mlibexpat1\u001b[0m/bionic-updates,bionic-security 2.2.5-3ubuntu0.7 amd64 [upgradable from: 2.2.5-3ubuntu0.4]\n",
            "\u001b[32mlibexpat1-dev\u001b[0m/bionic-updates,bionic-security 2.2.5-3ubuntu0.7 amd64 [upgradable from: 2.2.5-3ubuntu0.4]\n",
            "\u001b[32mlibgnutls30\u001b[0m/bionic-updates 3.5.18-1ubuntu1.5 amd64 [upgradable from: 3.5.18-1ubuntu1.4]\n",
            "\u001b[32mlibhogweed4\u001b[0m/bionic-updates,bionic-security 3.4.1-0ubuntu0.18.04.1 amd64 [upgradable from: 3.4-1]\n",
            "\u001b[32mlibldap-2.4-2\u001b[0m/bionic-updates,bionic-security 2.4.45+dfsg-1ubuntu1.10 amd64 [upgradable from: 2.4.45+dfsg-1ubuntu1.8]\n",
            "\u001b[32mlibldap-common\u001b[0m/bionic-updates,bionic-security 2.4.45+dfsg-1ubuntu1.10 all [upgradable from: 2.4.45+dfsg-1ubuntu1.8]\n",
            "\u001b[32mliblz4-1\u001b[0m/bionic-updates,bionic-security 0.0~r131-2ubuntu3.1 amd64 [upgradable from: 0.0~r131-2ubuntu3]\n",
            "\u001b[32mlibnccl-dev\u001b[0m/unknown 2.12.7-1+cuda11.6 amd64 [upgradable from: 2.7.8-1+cuda11.1]\n",
            "\u001b[32mlibnccl2\u001b[0m/unknown 2.12.7-1+cuda11.6 amd64 [upgradable from: 2.7.8-1+cuda11.1]\n",
            "\u001b[32mlibnettle6\u001b[0m/bionic-updates,bionic-security 3.4.1-0ubuntu0.18.04.1 amd64 [upgradable from: 3.4-1]\n",
            "\u001b[32mlibp11-kit0\u001b[0m/bionic-updates,bionic-security 0.23.9-2ubuntu0.1 amd64 [upgradable from: 0.23.9-2]\n",
            "\u001b[32mlibpam-modules\u001b[0m/bionic-updates 1.1.8-3.6ubuntu2.18.04.3 amd64 [upgradable from: 1.1.8-3.6ubuntu2.18.04.2]\n",
            "\u001b[32mlibpam-modules-bin\u001b[0m/bionic-updates 1.1.8-3.6ubuntu2.18.04.3 amd64 [upgradable from: 1.1.8-3.6ubuntu2.18.04.2]\n",
            "\u001b[32mlibpam-runtime\u001b[0m/bionic-updates 1.1.8-3.6ubuntu2.18.04.3 all [upgradable from: 1.1.8-3.6ubuntu2.18.04.2]\n",
            "\u001b[32mlibpam0g\u001b[0m/bionic-updates 1.1.8-3.6ubuntu2.18.04.3 amd64 [upgradable from: 1.1.8-3.6ubuntu2.18.04.2]\n",
            "\u001b[32mlibpython3.7\u001b[0m/bionic 3.7.13-1+bionic1 amd64 [upgradable from: 3.7.12-1+bionic2]\n",
            "\u001b[32mlibpython3.7-dev\u001b[0m/bionic 3.7.13-1+bionic1 amd64 [upgradable from: 3.7.12-1+bionic2]\n",
            "\u001b[32mlibpython3.7-minimal\u001b[0m/bionic 3.7.13-1+bionic1 amd64 [upgradable from: 3.7.12-1+bionic2]\n",
            "\u001b[32mlibpython3.7-stdlib\u001b[0m/bionic 3.7.13-1+bionic1 amd64 [upgradable from: 3.7.12-1+bionic2]\n",
            "\u001b[32mlibsasl2-2\u001b[0m/bionic-updates,bionic-security 2.1.27~101-g0780600+dfsg-3ubuntu2.4 amd64 [upgradable from: 2.1.27~101-g0780600+dfsg-3ubuntu2.1]\n",
            "\u001b[32mlibsasl2-modules-db\u001b[0m/bionic-updates,bionic-security 2.1.27~101-g0780600+dfsg-3ubuntu2.4 amd64 [upgradable from: 2.1.27~101-g0780600+dfsg-3ubuntu2.1]\n",
            "\u001b[32mlibseccomp2\u001b[0m/bionic-updates,bionic-security 2.5.1-1ubuntu1~18.04.2 amd64 [upgradable from: 2.4.3-1ubuntu3.18.04.3]\n",
            "\u001b[32mlibssl-dev\u001b[0m/bionic-updates,bionic-security 1.1.1-1ubuntu2.1~18.04.15 amd64 [upgradable from: 1.1.1-1ubuntu2.1~18.04.14]\n",
            "\u001b[32mlibssl1.0.0\u001b[0m/bionic-updates,bionic-security 1.0.2n-1ubuntu5.8 amd64 [upgradable from: 1.0.2n-1ubuntu5.7]\n",
            "\u001b[32mlibssl1.1\u001b[0m/bionic-updates,bionic-security 1.1.1-1ubuntu2.1~18.04.15 amd64 [upgradable from: 1.1.1-1ubuntu2.1~18.04.14]\n",
            "\u001b[32mlibxml2\u001b[0m/bionic-updates,bionic-security 2.9.4+dfsg1-6.1ubuntu1.5 amd64 [upgradable from: 2.9.4+dfsg1-6.1ubuntu1.4]\n",
            "\u001b[32mlibxml2-dev\u001b[0m/bionic-updates,bionic-security 2.9.4+dfsg1-6.1ubuntu1.5 amd64 [upgradable from: 2.9.4+dfsg1-6.1ubuntu1.4]\n",
            "\u001b[32mlibzstd1\u001b[0m/bionic-updates,bionic-security 1.3.3+dfsg-2ubuntu1.2 amd64 [upgradable from: 1.3.3+dfsg-2ubuntu1.1]\n",
            "\u001b[32mlinux-headers-generic\u001b[0m/bionic-updates,bionic-security 4.15.0.173.162 amd64 [upgradable from: 4.15.0.171.160]\n",
            "\u001b[32mlinux-libc-dev\u001b[0m/bionic-updates,bionic-security 4.15.0-173.182 amd64 [upgradable from: 4.15.0-128.131]\n",
            "\u001b[32mlogin\u001b[0m/bionic-updates,bionic-security 1:4.5-1ubuntu2.2 amd64 [upgradable from: 1:4.5-1ubuntu2]\n",
            "\u001b[32mopenssl\u001b[0m/bionic-updates,bionic-security 1.1.1-1ubuntu2.1~18.04.15 amd64 [upgradable from: 1.1.1-1ubuntu2.1~18.04.7]\n",
            "\u001b[32mpasswd\u001b[0m/bionic-updates,bionic-security 1:4.5-1ubuntu2.2 amd64 [upgradable from: 1:4.5-1ubuntu2]\n",
            "\u001b[32mpython3.7\u001b[0m/bionic 3.7.13-1+bionic1 amd64 [upgradable from: 3.7.12-1+bionic2]\n",
            "\u001b[32mpython3.7-dev\u001b[0m/bionic 3.7.13-1+bionic1 amd64 [upgradable from: 3.7.12-1+bionic2]\n",
            "\u001b[32mpython3.7-minimal\u001b[0m/bionic 3.7.13-1+bionic1 amd64 [upgradable from: 3.7.12-1+bionic2]\n",
            "\u001b[32mr-base\u001b[0m/bionic-cran40 4.1.3-1.1804.0 all [upgradable from: 4.1.2-1.1804.0]\n",
            "\u001b[32mr-base-core\u001b[0m/bionic-cran40 4.1.3-1.1804.0 amd64 [upgradable from: 4.1.2-1.1804.0]\n",
            "\u001b[32mr-base-dev\u001b[0m/bionic-cran40 4.1.3-1.1804.0 all [upgradable from: 4.1.2-1.1804.0]\n",
            "\u001b[32mr-cran-commonmark\u001b[0m/bionic 1.8.0-1cran1.1804.0 amd64 [upgradable from: 1.7-1cran1.1804.0]\n",
            "\u001b[32mr-cran-desc\u001b[0m/bionic 1.4.1-1cran1.1804.0 all [upgradable from: 1.4.0-1cran1.1804.0]\n",
            "\u001b[32mr-cran-openssl\u001b[0m/bionic 2.0.0-1cran1.1804.0 amd64 [upgradable from: 1.4.6-1cran1.1804.0]\n",
            "\u001b[32mr-cran-rcpp\u001b[0m/bionic 1.0.8.3-1cran1.1804.0 amd64 [upgradable from: 1.0.8-1cran1.1804.0]\n",
            "\u001b[32mr-cran-rlang\u001b[0m/bionic 1.0.2-1cran1.1804.0 amd64 [upgradable from: 1.0.1-1cran1.1804.0]\n",
            "\u001b[32mr-cran-rmarkdown\u001b[0m/bionic 2.13-1cran1.1804.0 all [upgradable from: 2.11-1cran1.1804.0]\n",
            "\u001b[32mr-cran-survival\u001b[0m/bionic 3.3-1-1cran1.1804.0 amd64 [upgradable from: 3.2-13-1cran1.1804.0]\n",
            "\u001b[32mr-cran-uuid\u001b[0m/bionic 1.0-4-1cran1.1804.0 amd64 [upgradable from: 1.0-3-1cran1.1804.0]\n",
            "\u001b[32mr-cran-waldo\u001b[0m/bionic 0.4.0-1cran1.1804.0 all [upgradable from: 0.3.1-1cran1.1804.0]\n",
            "\u001b[32mr-cran-withr\u001b[0m/bionic 2.5.0-1cran1.1804.0 all [upgradable from: 2.4.3-1cran1.1804.0]\n",
            "\u001b[32mr-cran-xfun\u001b[0m/bionic 0.30-1cran1.1804.0 amd64 [upgradable from: 0.29-1cran1.1804.0]\n",
            "\u001b[32mr-recommended\u001b[0m/bionic-cran40 4.1.3-1.1804.0 all [upgradable from: 4.1.2-1.1804.0]\n",
            "\u001b[32mtar\u001b[0m/bionic-updates,bionic-security 1.29b-2ubuntu0.3 amd64 [upgradable from: 1.29b-2ubuntu0.1]\n",
            "\u001b[32mubuntu-keyring\u001b[0m/bionic-updates 2018.09.18.1~18.04.2 all [upgradable from: 2018.09.18.1~18.04.0]\n"
          ]
        }
      ]
    },
    {
      "cell_type": "code",
      "source": [
        "!wget https://developer.nvidia.com/compute/cuda/8.0/Prod2/local_installers/cuda-repo-ubuntu1604-8-0-local-ga2_8.0.61-1_amd64-deb"
      ],
      "metadata": {
        "colab": {
          "base_uri": "https://localhost:8080/"
        },
        "id": "No39BWca0cQD",
        "outputId": "be651de8-8dc9-480a-f10b-2afbc12f3846"
      },
      "execution_count": 12,
      "outputs": [
        {
          "output_type": "stream",
          "name": "stdout",
          "text": [
            "--2022-03-23 03:29:37--  https://developer.nvidia.com/compute/cuda/8.0/Prod2/local_installers/cuda-repo-ubuntu1604-8-0-local-ga2_8.0.61-1_amd64-deb\n",
            "Resolving developer.nvidia.com (developer.nvidia.com)... 152.199.39.144\n",
            "Connecting to developer.nvidia.com (developer.nvidia.com)|152.199.39.144|:443... connected.\n",
            "HTTP request sent, awaiting response... 301 Moved Permanently\n",
            "Location: https://developer.nvidia.com/compute/cuda/8.0/prod2/local_installers/cuda-repo-ubuntu1604-8-0-local-ga2_8.0.61-1_amd64-deb [following]\n",
            "--2022-03-23 03:29:38--  https://developer.nvidia.com/compute/cuda/8.0/prod2/local_installers/cuda-repo-ubuntu1604-8-0-local-ga2_8.0.61-1_amd64-deb\n",
            "Reusing existing connection to developer.nvidia.com:443.\n",
            "HTTP request sent, awaiting response... 302 Found\n",
            "Location: https://developer.download.nvidia.com/compute/cuda/8.0/secure/Prod2/local_installers/cuda-repo-ubuntu1604-8-0-local-ga2_8.0.61-1_amd64.deb?Hw3IwVOGmd2Hm70I1y3s2qMmBofIJxE6e27dYdNmhnSV0BPkhbbceTAVoMRAb315QDWeuKrzaY6MIYFOx5Pe-SARhgfU7LmfeSASl9hwQpQMBJ7kWhOMtiph38w455Kt937FRxQkAxtks94pOzpavLKSSM7hBt3sd9HncXcg6OjQ0jWQzAAfquSXz6DtrAjDcQmv5LWAeVxsVAzLEvwWfcS5Xg [following]\n",
            "--2022-03-23 03:29:39--  https://developer.download.nvidia.com/compute/cuda/8.0/secure/Prod2/local_installers/cuda-repo-ubuntu1604-8-0-local-ga2_8.0.61-1_amd64.deb?Hw3IwVOGmd2Hm70I1y3s2qMmBofIJxE6e27dYdNmhnSV0BPkhbbceTAVoMRAb315QDWeuKrzaY6MIYFOx5Pe-SARhgfU7LmfeSASl9hwQpQMBJ7kWhOMtiph38w455Kt937FRxQkAxtks94pOzpavLKSSM7hBt3sd9HncXcg6OjQ0jWQzAAfquSXz6DtrAjDcQmv5LWAeVxsVAzLEvwWfcS5Xg\n",
            "Resolving developer.download.nvidia.com (developer.download.nvidia.com)... 152.199.39.144\n",
            "Connecting to developer.download.nvidia.com (developer.download.nvidia.com)|152.199.39.144|:443... connected.\n",
            "HTTP request sent, awaiting response... 200 OK\n",
            "Length: 1913589814 (1.8G) [application/x-deb]\n",
            "Saving to: ‘cuda-repo-ubuntu1604-8-0-local-ga2_8.0.61-1_amd64-deb’\n",
            "\n",
            "cuda-repo-ubuntu160 100%[===================>]   1.78G  27.0MB/s    in 69s     \n",
            "\n",
            "2022-03-23 03:30:49 (26.5 MB/s) - ‘cuda-repo-ubuntu1604-8-0-local-ga2_8.0.61-1_amd64-deb’ saved [1913589814/1913589814]\n",
            "\n"
          ]
        }
      ]
    },
    {
      "cell_type": "code",
      "source": [
        "!dpkg -i /content/cuda-repo-ubuntu1604-8-0-local-ga2_8.0.61-1_amd64-deb 2> /dev/null"
      ],
      "metadata": {
        "colab": {
          "base_uri": "https://localhost:8080/"
        },
        "id": "slAbYNdC0qGJ",
        "outputId": "64b9d325-5050-4404-abb6-f25f80f7774f"
      },
      "execution_count": 15,
      "outputs": [
        {
          "output_type": "stream",
          "name": "stdout",
          "text": [
            "Selecting previously unselected package cuda-repo-ubuntu1604-8-0-local-ga2.\n",
            "(Reading database ... 156335 files and directories currently installed.)\n",
            "Preparing to unpack .../cuda-repo-ubuntu1604-8-0-local-ga2_8.0.61-1_amd64-deb ...\n",
            "Unpacking cuda-repo-ubuntu1604-8-0-local-ga2 (8.0.61-1) ...\n",
            "Setting up cuda-repo-ubuntu1604-8-0-local-ga2 (8.0.61-1) ...\n",
            "OK\n"
          ]
        }
      ]
    },
    {
      "cell_type": "code",
      "source": [
        "!apt-key add /var/cuda-repo-8-0-local-ga2/7fa2af80.pub"
      ],
      "metadata": {
        "colab": {
          "base_uri": "https://localhost:8080/"
        },
        "id": "cNiL7FWA0-bV",
        "outputId": "642ca1bc-6ce6-4d22-be5d-5e4c54546fcf"
      },
      "execution_count": 16,
      "outputs": [
        {
          "output_type": "stream",
          "name": "stdout",
          "text": [
            "OK\n"
          ]
        }
      ]
    },
    {
      "cell_type": "code",
      "source": [
        "!apt-get update -qq"
      ],
      "metadata": {
        "id": "P99kwXTj1BE3"
      },
      "execution_count": 17,
      "outputs": []
    },
    {
      "cell_type": "code",
      "source": [
        "!apt --fix-broken install\n",
        "!apt-get install cuda gcc-5 g++-5 -y -qq;"
      ],
      "metadata": {
        "colab": {
          "base_uri": "https://localhost:8080/"
        },
        "id": "QfrWxVgi1oA6",
        "outputId": "3817af30-bff1-4f14-cf78-45aeeb9fee06"
      },
      "execution_count": 18,
      "outputs": [
        {
          "output_type": "stream",
          "name": "stdout",
          "text": [
            "Reading package lists... Done\n",
            "Building dependency tree       \n",
            "Reading state information... Done\n",
            "0 upgraded, 0 newly installed, 0 to remove and 69 not upgraded.\n",
            "Extracting templates from packages: 100%\n",
            "Selecting previously unselected package cuda-toolkit-config-common.\n",
            "(Reading database ... 156429 files and directories currently installed.)\n",
            "Preparing to unpack .../00-cuda-toolkit-config-common_11.6.55-1_all.deb ...\n",
            "Unpacking cuda-toolkit-config-common (11.6.55-1) ...\n",
            "Selecting previously unselected package cuda-toolkit-11-config-common.\n",
            "Preparing to unpack .../01-cuda-toolkit-11-config-common_11.6.55-1_all.deb ...\n",
            "Unpacking cuda-toolkit-11-config-common (11.6.55-1) ...\n",
            "Selecting previously unselected package cuda-toolkit-11-6-config-common.\n",
            "Preparing to unpack .../02-cuda-toolkit-11-6-config-common_11.6.55-1_all.deb ...\n",
            "Unpacking cuda-toolkit-11-6-config-common (11.6.55-1) ...\n",
            "Selecting previously unselected package cuda-cudart-11-6.\n",
            "Preparing to unpack .../03-cuda-cudart-11-6_11.6.55-1_amd64.deb ...\n",
            "Unpacking cuda-cudart-11-6 (11.6.55-1) ...\n",
            "Selecting previously unselected package cuda-nvrtc-11-6.\n",
            "Preparing to unpack .../04-cuda-nvrtc-11-6_11.6.112-1_amd64.deb ...\n",
            "Unpacking cuda-nvrtc-11-6 (11.6.112-1) ...\n",
            "Selecting previously unselected package libcublas-11-6.\n",
            "Preparing to unpack .../05-libcublas-11-6_11.8.1.74-1_amd64.deb ...\n",
            "Unpacking libcublas-11-6 (11.8.1.74-1) ...\n",
            "Selecting previously unselected package libcufft-11-6.\n",
            "Preparing to unpack .../06-libcufft-11-6_10.7.1.112-1_amd64.deb ...\n",
            "Unpacking libcufft-11-6 (10.7.1.112-1) ...\n",
            "Selecting previously unselected package liburcu6:amd64.\n",
            "Preparing to unpack .../07-liburcu6_0.10.1-1ubuntu1_amd64.deb ...\n",
            "Unpacking liburcu6:amd64 (0.10.1-1ubuntu1) ...\n",
            "Selecting previously unselected package libcufile-11-6.\n",
            "Preparing to unpack .../08-libcufile-11-6_1.2.1.4-1_amd64.deb ...\n",
            "Unpacking libcufile-11-6 (1.2.1.4-1) ...\n",
            "Selecting previously unselected package libcurand-11-6.\n",
            "Preparing to unpack .../09-libcurand-11-6_10.2.9.55-1_amd64.deb ...\n",
            "Unpacking libcurand-11-6 (10.2.9.55-1) ...\n",
            "Selecting previously unselected package libcusolver-11-6.\n",
            "Preparing to unpack .../10-libcusolver-11-6_11.3.3.112-1_amd64.deb ...\n",
            "Unpacking libcusolver-11-6 (11.3.3.112-1) ...\n",
            "Selecting previously unselected package libcusparse-11-6.\n",
            "Preparing to unpack .../11-libcusparse-11-6_11.7.2.112-1_amd64.deb ...\n",
            "Unpacking libcusparse-11-6 (11.7.2.112-1) ...\n",
            "Selecting previously unselected package libnpp-11-6.\n",
            "Preparing to unpack .../12-libnpp-11-6_11.6.2.112-1_amd64.deb ...\n",
            "Unpacking libnpp-11-6 (11.6.2.112-1) ...\n",
            "Selecting previously unselected package libnvjpeg-11-6.\n",
            "Preparing to unpack .../13-libnvjpeg-11-6_11.6.1.112-1_amd64.deb ...\n",
            "Unpacking libnvjpeg-11-6 (11.6.1.112-1) ...\n",
            "Selecting previously unselected package cuda-libraries-11-6.\n",
            "Preparing to unpack .../14-cuda-libraries-11-6_11.6.1-1_amd64.deb ...\n",
            "Unpacking cuda-libraries-11-6 (11.6.1-1) ...\n",
            "Selecting previously unselected package cuda-runtime-11-6.\n",
            "Preparing to unpack .../15-cuda-runtime-11-6_11.6.1-1_amd64.deb ...\n",
            "Unpacking cuda-runtime-11-6 (11.6.1-1) ...\n",
            "Selecting previously unselected package cuda-cuobjdump-11-6.\n",
            "Preparing to unpack .../16-cuda-cuobjdump-11-6_11.6.112-1_amd64.deb ...\n",
            "Unpacking cuda-cuobjdump-11-6 (11.6.112-1) ...\n",
            "Selecting previously unselected package cuda-cuxxfilt-11-6.\n",
            "Preparing to unpack .../17-cuda-cuxxfilt-11-6_11.6.112-1_amd64.deb ...\n",
            "Unpacking cuda-cuxxfilt-11-6 (11.6.112-1) ...\n",
            "Selecting previously unselected package cuda-cccl-11-6.\n",
            "Preparing to unpack .../18-cuda-cccl-11-6_11.6.55-1_amd64.deb ...\n",
            "Unpacking cuda-cccl-11-6 (11.6.55-1) ...\n",
            "Selecting previously unselected package cuda-driver-dev-11-6.\n",
            "Preparing to unpack .../19-cuda-driver-dev-11-6_11.6.55-1_amd64.deb ...\n",
            "Unpacking cuda-driver-dev-11-6 (11.6.55-1) ...\n",
            "Selecting previously unselected package cuda-cudart-dev-11-6.\n",
            "Preparing to unpack .../20-cuda-cudart-dev-11-6_11.6.55-1_amd64.deb ...\n",
            "Unpacking cuda-cudart-dev-11-6 (11.6.55-1) ...\n",
            "Selecting previously unselected package cuda-nvcc-11-6.\n",
            "Preparing to unpack .../21-cuda-nvcc-11-6_11.6.112-1_amd64.deb ...\n",
            "Unpacking cuda-nvcc-11-6 (11.6.112-1) ...\n",
            "Selecting previously unselected package cuda-nvprune-11-6.\n",
            "Preparing to unpack .../22-cuda-nvprune-11-6_11.6.112-1_amd64.deb ...\n",
            "Unpacking cuda-nvprune-11-6 (11.6.112-1) ...\n",
            "Selecting previously unselected package cuda-compiler-11-6.\n",
            "Preparing to unpack .../23-cuda-compiler-11-6_11.6.1-1_amd64.deb ...\n",
            "Unpacking cuda-compiler-11-6 (11.6.1-1) ...\n",
            "Selecting previously unselected package cuda-nvrtc-dev-11-6.\n",
            "Preparing to unpack .../24-cuda-nvrtc-dev-11-6_11.6.112-1_amd64.deb ...\n",
            "Unpacking cuda-nvrtc-dev-11-6 (11.6.112-1) ...\n",
            "Selecting previously unselected package libcublas-dev-11-6.\n",
            "Preparing to unpack .../25-libcublas-dev-11-6_11.8.1.74-1_amd64.deb ...\n",
            "Unpacking libcublas-dev-11-6 (11.8.1.74-1) ...\n",
            "Selecting previously unselected package libcufft-dev-11-6.\n",
            "Preparing to unpack .../26-libcufft-dev-11-6_10.7.1.112-1_amd64.deb ...\n",
            "Unpacking libcufft-dev-11-6 (10.7.1.112-1) ...\n",
            "Selecting previously unselected package libcufile-dev-11-6.\n",
            "Preparing to unpack .../27-libcufile-dev-11-6_1.2.1.4-1_amd64.deb ...\n",
            "Unpacking libcufile-dev-11-6 (1.2.1.4-1) ...\n",
            "Selecting previously unselected package libcurand-dev-11-6.\n",
            "Preparing to unpack .../28-libcurand-dev-11-6_10.2.9.55-1_amd64.deb ...\n",
            "Unpacking libcurand-dev-11-6 (10.2.9.55-1) ...\n",
            "Selecting previously unselected package libcusolver-dev-11-6.\n",
            "Preparing to unpack .../29-libcusolver-dev-11-6_11.3.3.112-1_amd64.deb ...\n",
            "Unpacking libcusolver-dev-11-6 (11.3.3.112-1) ...\n",
            "Selecting previously unselected package libcusparse-dev-11-6.\n",
            "Preparing to unpack .../30-libcusparse-dev-11-6_11.7.2.112-1_amd64.deb ...\n",
            "Unpacking libcusparse-dev-11-6 (11.7.2.112-1) ...\n",
            "Selecting previously unselected package libnpp-dev-11-6.\n",
            "Preparing to unpack .../31-libnpp-dev-11-6_11.6.2.112-1_amd64.deb ...\n",
            "Unpacking libnpp-dev-11-6 (11.6.2.112-1) ...\n",
            "Selecting previously unselected package libnvjpeg-dev-11-6.\n",
            "Preparing to unpack .../32-libnvjpeg-dev-11-6_11.6.1.112-1_amd64.deb ...\n",
            "Unpacking libnvjpeg-dev-11-6 (11.6.1.112-1) ...\n",
            "Selecting previously unselected package cuda-libraries-dev-11-6.\n",
            "Preparing to unpack .../33-cuda-libraries-dev-11-6_11.6.1-1_amd64.deb ...\n",
            "Unpacking cuda-libraries-dev-11-6 (11.6.1-1) ...\n",
            "Selecting previously unselected package cuda-cupti-11-6.\n",
            "Preparing to unpack .../34-cuda-cupti-11-6_11.6.112-1_amd64.deb ...\n",
            "Unpacking cuda-cupti-11-6 (11.6.112-1) ...\n",
            "Selecting previously unselected package cuda-cupti-dev-11-6.\n",
            "Preparing to unpack .../35-cuda-cupti-dev-11-6_11.6.112-1_amd64.deb ...\n",
            "Unpacking cuda-cupti-dev-11-6 (11.6.112-1) ...\n",
            "Selecting previously unselected package cuda-nvdisasm-11-6.\n",
            "Preparing to unpack .../36-cuda-nvdisasm-11-6_11.6.104-1_amd64.deb ...\n",
            "Unpacking cuda-nvdisasm-11-6 (11.6.104-1) ...\n",
            "Selecting previously unselected package cuda-gdb-11-6.\n",
            "Preparing to unpack .../37-cuda-gdb-11-6_11.6.112-1_amd64.deb ...\n",
            "Unpacking cuda-gdb-11-6 (11.6.112-1) ...\n",
            "Selecting previously unselected package cuda-memcheck-11-6.\n",
            "Preparing to unpack .../38-cuda-memcheck-11-6_11.6.112-1_amd64.deb ...\n",
            "Unpacking cuda-memcheck-11-6 (11.6.112-1) ...\n",
            "Selecting previously unselected package cuda-nvprof-11-6.\n",
            "Preparing to unpack .../39-cuda-nvprof-11-6_11.6.112-1_amd64.deb ...\n",
            "Unpacking cuda-nvprof-11-6 (11.6.112-1) ...\n",
            "Selecting previously unselected package cuda-nvtx-11-6.\n",
            "Preparing to unpack .../40-cuda-nvtx-11-6_11.6.112-1_amd64.deb ...\n",
            "Unpacking cuda-nvtx-11-6 (11.6.112-1) ...\n",
            "Selecting previously unselected package cuda-sanitizer-11-6.\n",
            "Preparing to unpack .../41-cuda-sanitizer-11-6_11.6.112-1_amd64.deb ...\n",
            "Unpacking cuda-sanitizer-11-6 (11.6.112-1) ...\n",
            "Selecting previously unselected package cuda-command-line-tools-11-6.\n",
            "Preparing to unpack .../42-cuda-command-line-tools-11-6_11.6.1-1_amd64.deb ...\n",
            "Unpacking cuda-command-line-tools-11-6 (11.6.1-1) ...\n",
            "Selecting previously unselected package cuda-nsight-compute-11-6.\n",
            "Preparing to unpack .../43-cuda-nsight-compute-11-6_11.6.1-1_amd64.deb ...\n",
            "Unpacking cuda-nsight-compute-11-6 (11.6.1-1) ...\n",
            "Selecting previously unselected package cuda-nsight-systems-11-6.\n",
            "Preparing to unpack .../44-cuda-nsight-systems-11-6_11.6.1-1_amd64.deb ...\n",
            "Unpacking cuda-nsight-systems-11-6 (11.6.1-1) ...\n",
            "Selecting previously unselected package cuda-nsight-11-6.\n",
            "Preparing to unpack .../45-cuda-nsight-11-6_11.6.112-1_amd64.deb ...\n",
            "Unpacking cuda-nsight-11-6 (11.6.112-1) ...\n",
            "Selecting previously unselected package cuda-nvml-dev-11-6.\n",
            "Preparing to unpack .../46-cuda-nvml-dev-11-6_11.6.55-1_amd64.deb ...\n",
            "Unpacking cuda-nvml-dev-11-6 (11.6.55-1) ...\n",
            "Selecting previously unselected package cuda-nvvp-11-6.\n",
            "Preparing to unpack .../47-cuda-nvvp-11-6_11.6.112-1_amd64.deb ...\n",
            "Unpacking cuda-nvvp-11-6 (11.6.112-1) ...\n",
            "Selecting previously unselected package cuda-visual-tools-11-6.\n",
            "Preparing to unpack .../48-cuda-visual-tools-11-6_11.6.1-1_amd64.deb ...\n",
            "Unpacking cuda-visual-tools-11-6 (11.6.1-1) ...\n",
            "Selecting previously unselected package gds-tools-11-6.\n",
            "Preparing to unpack .../49-gds-tools-11-6_1.2.1.4-1_amd64.deb ...\n",
            "Unpacking gds-tools-11-6 (1.2.1.4-1) ...\n",
            "Selecting previously unselected package cuda-tools-11-6.\n",
            "Preparing to unpack .../50-cuda-tools-11-6_11.6.1-1_amd64.deb ...\n",
            "Unpacking cuda-tools-11-6 (11.6.1-1) ...\n",
            "Selecting previously unselected package cuda-documentation-11-6.\n",
            "Preparing to unpack .../51-cuda-documentation-11-6_11.6.112-1_amd64.deb ...\n",
            "Unpacking cuda-documentation-11-6 (11.6.112-1) ...\n",
            "Selecting previously unselected package cuda-samples-11-6.\n",
            "Preparing to unpack .../52-cuda-samples-11-6_11.6.101-1_amd64.deb ...\n",
            "Unpacking cuda-samples-11-6 (11.6.101-1) ...\n",
            "Selecting previously unselected package cuda-toolkit-11-6.\n",
            "Preparing to unpack .../53-cuda-toolkit-11-6_11.6.1-1_amd64.deb ...\n",
            "Unpacking cuda-toolkit-11-6 (11.6.1-1) ...\n",
            "Selecting previously unselected package cuda-demo-suite-11-6.\n",
            "Preparing to unpack .../54-cuda-demo-suite-11-6_11.6.55-1_amd64.deb ...\n",
            "Unpacking cuda-demo-suite-11-6 (11.6.55-1) ...\n",
            "Selecting previously unselected package cuda-11-6.\n",
            "Preparing to unpack .../55-cuda-11-6_11.6.1-1_amd64.deb ...\n",
            "Unpacking cuda-11-6 (11.6.1-1) ...\n",
            "Selecting previously unselected package cuda.\n",
            "Preparing to unpack .../56-cuda_11.6.1-1_amd64.deb ...\n",
            "Unpacking cuda (11.6.1-1) ...\n",
            "Setting up cuda-toolkit-config-common (11.6.55-1) ...\n",
            "Setting up cuda-nsight-11-6 (11.6.112-1) ...\n",
            "Setting up cuda-sanitizer-11-6 (11.6.112-1) ...\n",
            "Setting up cuda-nvdisasm-11-6 (11.6.104-1) ...\n",
            "Setting up cuda-nvprof-11-6 (11.6.112-1) ...\n",
            "Setting up cuda-cccl-11-6 (11.6.55-1) ...\n",
            "Setting up cuda-nvrtc-11-6 (11.6.112-1) ...\n",
            "Setting up cuda-driver-dev-11-6 (11.6.55-1) ...\n",
            "Setting up cuda-toolkit-11-config-common (11.6.55-1) ...\n",
            "Setting up cuda-nvvp-11-6 (11.6.112-1) ...\n",
            "Setting up cuda-nvtx-11-6 (11.6.112-1) ...\n",
            "Setting up liburcu6:amd64 (0.10.1-1ubuntu1) ...\n",
            "Setting up cuda-nvml-dev-11-6 (11.6.55-1) ...\n",
            "Setting up cuda-memcheck-11-6 (11.6.112-1) ...\n",
            "Setting up cuda-nvprune-11-6 (11.6.112-1) ...\n",
            "Setting up cuda-nsight-compute-11-6 (11.6.1-1) ...\n",
            "Setting up cuda-cuobjdump-11-6 (11.6.112-1) ...\n",
            "Setting up cuda-documentation-11-6 (11.6.112-1) ...\n",
            "Setting up cuda-nvrtc-dev-11-6 (11.6.112-1) ...\n",
            "Setting up cuda-nsight-systems-11-6 (11.6.1-1) ...\n",
            "Setting up cuda-cuxxfilt-11-6 (11.6.112-1) ...\n",
            "Setting up cuda-samples-11-6 (11.6.101-1) ...\n",
            "Setting up gds-tools-11-6 (1.2.1.4-1) ...\n",
            "Setting up cuda-toolkit-11-6-config-common (11.6.55-1) ...\n",
            "Setting alternatives\n",
            "update-alternatives: using /usr/local/cuda-11.6 to provide /usr/local/cuda (cuda) in auto mode\n",
            "update-alternatives: using /usr/local/cuda-11.6 to provide /usr/local/cuda-11 (cuda-11) in auto mode\n",
            "Setting up libnpp-11-6 (11.6.2.112-1) ...\n",
            "Setting up libcurand-11-6 (10.2.9.55-1) ...\n",
            "Setting up libnvjpeg-11-6 (11.6.1.112-1) ...\n",
            "Setting up cuda-gdb-11-6 (11.6.112-1) ...\n",
            "Setting up libnvjpeg-dev-11-6 (11.6.1.112-1) ...\n",
            "Setting up libcurand-dev-11-6 (10.2.9.55-1) ...\n",
            "Setting up libcublas-11-6 (11.8.1.74-1) ...\n",
            "Setting up libcufile-11-6 (1.2.1.4-1) ...\n",
            "Setting alternatives\n",
            "update-alternatives: using /usr/local/cuda-11.6/gds/cufile.json to provide /etc/cufile.json (cufile.json) in auto mode\n",
            "Setting up libcusolver-11-6 (11.3.3.112-1) ...\n",
            "Setting up cuda-cudart-11-6 (11.6.55-1) ...\n",
            "Setting up libcufft-11-6 (10.7.1.112-1) ...\n",
            "Setting up libcusparse-11-6 (11.7.2.112-1) ...\n",
            "Setting up libcusolver-dev-11-6 (11.3.3.112-1) ...\n",
            "Setting up libcufile-dev-11-6 (1.2.1.4-1) ...\n",
            "Setting up libnpp-dev-11-6 (11.6.2.112-1) ...\n",
            "Setting up cuda-cudart-dev-11-6 (11.6.55-1) ...\n",
            "Setting up libcublas-dev-11-6 (11.8.1.74-1) ...\n",
            "Setting up libcufft-dev-11-6 (10.7.1.112-1) ...\n",
            "Setting up libcusparse-dev-11-6 (11.7.2.112-1) ...\n",
            "Setting up cuda-libraries-dev-11-6 (11.6.1-1) ...\n",
            "Setting up cuda-nvcc-11-6 (11.6.112-1) ...\n",
            "Setting up cuda-libraries-11-6 (11.6.1-1) ...\n",
            "Setting up cuda-runtime-11-6 (11.6.1-1) ...\n",
            "Setting up cuda-compiler-11-6 (11.6.1-1) ...\n",
            "Setting up cuda-visual-tools-11-6 (11.6.1-1) ...\n",
            "Setting up cuda-demo-suite-11-6 (11.6.55-1) ...\n",
            "Setting up cuda-cupti-11-6 (11.6.112-1) ...\n",
            "Setting up cuda-cupti-dev-11-6 (11.6.112-1) ...\n",
            "Setting up cuda-command-line-tools-11-6 (11.6.1-1) ...\n",
            "Setting up cuda-tools-11-6 (11.6.1-1) ...\n",
            "Setting up cuda-toolkit-11-6 (11.6.1-1) ...\n",
            "Setting alternatives\n",
            "Setting up cuda-11-6 (11.6.1-1) ...\n",
            "Setting up cuda (11.6.1-1) ...\n",
            "Processing triggers for libc-bin (2.27-3ubuntu1.3) ...\n",
            "/sbin/ldconfig.real: /usr/local/lib/python3.7/dist-packages/ideep4py/lib/libmkldnn.so.0 is not a symbolic link\n",
            "\n"
          ]
        }
      ]
    },
    {
      "cell_type": "code",
      "source": [
        "!ln -s /usr/bin/gcc-5 /usr/local/cuda/bin/gcc;\n",
        "!ln -s /usr/bin/g++-5 /usr/local/cuda/bin/g++;\n",
        "!apt install cuda-8.0;"
      ],
      "metadata": {
        "colab": {
          "base_uri": "https://localhost:8080/"
        },
        "id": "EYHrRcCU1pm2",
        "outputId": "c4ed69f1-b556-4728-a355-6732cb6826d7"
      },
      "execution_count": 19,
      "outputs": [
        {
          "output_type": "stream",
          "name": "stdout",
          "text": [
            "Reading package lists... Done\n",
            "Building dependency tree       \n",
            "Reading state information... Done\n",
            "Note, selecting 'cuda-8-0' for regex 'cuda-8.0'\n",
            "Note, selecting 'libcuda-8.0-1' for regex 'cuda-8.0'\n",
            "The following additional packages will be installed:\n",
            "  cuda-command-line-tools-8-0 cuda-core-8-0 cuda-cublas-8-0\n",
            "  cuda-cublas-dev-8-0 cuda-cudart-8-0 cuda-cudart-dev-8-0 cuda-cufft-8-0\n",
            "  cuda-cufft-dev-8-0 cuda-curand-8-0 cuda-curand-dev-8-0 cuda-cusolver-8-0\n",
            "  cuda-cusolver-dev-8-0 cuda-cusparse-8-0 cuda-cusparse-dev-8-0\n",
            "  cuda-demo-suite-8-0 cuda-documentation-8-0 cuda-driver-dev-8-0\n",
            "  cuda-license-8-0 cuda-misc-headers-8-0 cuda-npp-8-0 cuda-npp-dev-8-0\n",
            "  cuda-nvgraph-8-0 cuda-nvgraph-dev-8-0 cuda-nvml-dev-8-0 cuda-nvrtc-8-0\n",
            "  cuda-nvrtc-dev-8-0 cuda-runtime-8-0 cuda-samples-8-0 cuda-toolkit-8-0\n",
            "  cuda-visual-tools-8-0\n",
            "The following NEW packages will be installed:\n",
            "  cuda-8-0 cuda-command-line-tools-8-0 cuda-core-8-0 cuda-cublas-8-0\n",
            "  cuda-cublas-dev-8-0 cuda-cudart-8-0 cuda-cudart-dev-8-0 cuda-cufft-8-0\n",
            "  cuda-cufft-dev-8-0 cuda-curand-8-0 cuda-curand-dev-8-0 cuda-cusolver-8-0\n",
            "  cuda-cusolver-dev-8-0 cuda-cusparse-8-0 cuda-cusparse-dev-8-0\n",
            "  cuda-demo-suite-8-0 cuda-documentation-8-0 cuda-driver-dev-8-0\n",
            "  cuda-license-8-0 cuda-misc-headers-8-0 cuda-npp-8-0 cuda-npp-dev-8-0\n",
            "  cuda-nvgraph-8-0 cuda-nvgraph-dev-8-0 cuda-nvml-dev-8-0 cuda-nvrtc-8-0\n",
            "  cuda-nvrtc-dev-8-0 cuda-runtime-8-0 cuda-samples-8-0 cuda-toolkit-8-0\n",
            "  cuda-visual-tools-8-0\n",
            "0 upgraded, 31 newly installed, 0 to remove and 69 not upgraded.\n",
            "Need to get 0 B/1,312 MB of archives.\n",
            "After this operation, 2,079 MB of additional disk space will be used.\n",
            "Get:1 file:/var/cuda-repo-8-0-local-ga2  cuda-license-8-0 8.0.61-1 [27.6 kB]\n",
            "Get:2 file:/var/cuda-repo-8-0-local-ga2  cuda-misc-headers-8-0 8.0.61-1 [1,077 kB]\n",
            "Get:3 file:/var/cuda-repo-8-0-local-ga2  cuda-core-8-0 8.0.61-1 [20.0 MB]\n",
            "Get:4 file:/var/cuda-repo-8-0-local-ga2  cuda-cudart-8-0 8.0.61-1 [135 kB]\n",
            "Get:5 file:/var/cuda-repo-8-0-local-ga2  cuda-driver-dev-8-0 8.0.61-1 [14.1 kB]\n",
            "Get:6 file:/var/cuda-repo-8-0-local-ga2  cuda-cudart-dev-8-0 8.0.61-1 [1,071 kB]\n",
            "Get:7 file:/var/cuda-repo-8-0-local-ga2  cuda-command-line-tools-8-0 8.0.61-1 [26.1 MB]\n",
            "Get:8 file:/var/cuda-repo-8-0-local-ga2  cuda-nvrtc-8-0 8.0.61-1 [9,585 kB]\n",
            "Get:9 file:/var/cuda-repo-8-0-local-ga2  cuda-nvrtc-dev-8-0 8.0.61-1 [10.8 kB]\n",
            "Get:10 file:/var/cuda-repo-8-0-local-ga2  cuda-cusolver-8-0 8.0.61-1 [29.3 MB]\n",
            "Get:11 file:/var/cuda-repo-8-0-local-ga2  cuda-cusolver-dev-8-0 8.0.61-1 [6,816 kB]\n",
            "Get:12 file:/var/cuda-repo-8-0-local-ga2  cuda-cublas-8-0 8.0.61-1 [27.2 MB]\n",
            "Get:13 file:/var/cuda-repo-8-0-local-ga2  cuda-cublas-dev-8-0 8.0.61-1 [57.4 MB]\n",
            "Get:14 file:/var/cuda-repo-8-0-local-ga2  cuda-cufft-8-0 8.0.61-1 [117 MB]\n",
            "Get:15 file:/var/cuda-repo-8-0-local-ga2  cuda-cufft-dev-8-0 8.0.61-1 [94.8 MB]\n",
            "Get:16 file:/var/cuda-repo-8-0-local-ga2  cuda-curand-8-0 8.0.61-1 [43.7 MB]\n",
            "Get:17 file:/var/cuda-repo-8-0-local-ga2  cuda-curand-dev-8-0 8.0.61-1 [67.7 MB]\n",
            "Get:18 file:/var/cuda-repo-8-0-local-ga2  cuda-cusparse-8-0 8.0.61-1 [28.8 MB]\n",
            "Get:19 file:/var/cuda-repo-8-0-local-ga2  cuda-cusparse-dev-8-0 8.0.61-1 [29.6 MB]\n",
            "Get:20 file:/var/cuda-repo-8-0-local-ga2  cuda-npp-8-0 8.0.61-1 [157 MB]\n",
            "Get:21 file:/var/cuda-repo-8-0-local-ga2  cuda-npp-dev-8-0 8.0.61-1 [82.3 MB]\n",
            "Get:22 file:/var/cuda-repo-8-0-local-ga2  cuda-samples-8-0 8.0.61-1 [101 MB]\n",
            "Get:23 file:/var/cuda-repo-8-0-local-ga2  cuda-documentation-8-0 8.0.61-1 [113 MB]\n",
            "Get:24 file:/var/cuda-repo-8-0-local-ga2  cuda-nvml-dev-8-0 8.0.61-1 [48.4 kB]\n",
            "Get:25 file:/var/cuda-repo-8-0-local-ga2  cuda-nvgraph-8-0 8.0.61-1 [2,948 kB]\n",
            "Get:26 file:/var/cuda-repo-8-0-local-ga2  cuda-nvgraph-dev-8-0 8.0.61-1 [3,028 kB]\n",
            "Get:27 file:/var/cuda-repo-8-0-local-ga2  cuda-visual-tools-8-0 8.0.61-1 [286 MB]\n",
            "Get:28 file:/var/cuda-repo-8-0-local-ga2  cuda-toolkit-8-0 8.0.61-1 [2,892 B]\n",
            "Get:29 file:/var/cuda-repo-8-0-local-ga2  cuda-runtime-8-0 8.0.61-1 [2,574 B]\n",
            "Get:30 file:/var/cuda-repo-8-0-local-ga2  cuda-demo-suite-8-0 8.0.61-1 [4,988 kB]\n",
            "Get:31 file:/var/cuda-repo-8-0-local-ga2  cuda-8-0 8.0.61-1 [2,556 B]\n",
            "Extracting templates from packages: 100%\n",
            "Selecting previously unselected package cuda-license-8-0.\n",
            "(Reading database ... 160358 files and directories currently installed.)\n",
            "Preparing to unpack .../00-cuda-license-8-0_8.0.61-1_amd64.deb ...\n",
            "Unpacking cuda-license-8-0 (8.0.61-1) ...\n",
            "Selecting previously unselected package cuda-misc-headers-8-0.\n",
            "Preparing to unpack .../01-cuda-misc-headers-8-0_8.0.61-1_amd64.deb ...\n",
            "Unpacking cuda-misc-headers-8-0 (8.0.61-1) ...\n",
            "Selecting previously unselected package cuda-core-8-0.\n",
            "Preparing to unpack .../02-cuda-core-8-0_8.0.61-1_amd64.deb ...\n",
            "Unpacking cuda-core-8-0 (8.0.61-1) ...\n",
            "Selecting previously unselected package cuda-cudart-8-0.\n",
            "Preparing to unpack .../03-cuda-cudart-8-0_8.0.61-1_amd64.deb ...\n",
            "Unpacking cuda-cudart-8-0 (8.0.61-1) ...\n",
            "Selecting previously unselected package cuda-driver-dev-8-0.\n",
            "Preparing to unpack .../04-cuda-driver-dev-8-0_8.0.61-1_amd64.deb ...\n",
            "Unpacking cuda-driver-dev-8-0 (8.0.61-1) ...\n",
            "Selecting previously unselected package cuda-cudart-dev-8-0.\n",
            "Preparing to unpack .../05-cuda-cudart-dev-8-0_8.0.61-1_amd64.deb ...\n",
            "Unpacking cuda-cudart-dev-8-0 (8.0.61-1) ...\n",
            "Selecting previously unselected package cuda-command-line-tools-8-0.\n",
            "Preparing to unpack .../06-cuda-command-line-tools-8-0_8.0.61-1_amd64.deb ...\n",
            "Unpacking cuda-command-line-tools-8-0 (8.0.61-1) ...\n",
            "Selecting previously unselected package cuda-nvrtc-8-0.\n",
            "Preparing to unpack .../07-cuda-nvrtc-8-0_8.0.61-1_amd64.deb ...\n",
            "Unpacking cuda-nvrtc-8-0 (8.0.61-1) ...\n",
            "Selecting previously unselected package cuda-nvrtc-dev-8-0.\n",
            "Preparing to unpack .../08-cuda-nvrtc-dev-8-0_8.0.61-1_amd64.deb ...\n",
            "Unpacking cuda-nvrtc-dev-8-0 (8.0.61-1) ...\n",
            "Selecting previously unselected package cuda-cusolver-8-0.\n",
            "Preparing to unpack .../09-cuda-cusolver-8-0_8.0.61-1_amd64.deb ...\n",
            "Unpacking cuda-cusolver-8-0 (8.0.61-1) ...\n",
            "Selecting previously unselected package cuda-cusolver-dev-8-0.\n",
            "Preparing to unpack .../10-cuda-cusolver-dev-8-0_8.0.61-1_amd64.deb ...\n",
            "Unpacking cuda-cusolver-dev-8-0 (8.0.61-1) ...\n",
            "Selecting previously unselected package cuda-cublas-8-0.\n",
            "Preparing to unpack .../11-cuda-cublas-8-0_8.0.61-1_amd64.deb ...\n",
            "Unpacking cuda-cublas-8-0 (8.0.61-1) ...\n",
            "Selecting previously unselected package cuda-cublas-dev-8-0.\n",
            "Preparing to unpack .../12-cuda-cublas-dev-8-0_8.0.61-1_amd64.deb ...\n",
            "Unpacking cuda-cublas-dev-8-0 (8.0.61-1) ...\n",
            "Selecting previously unselected package cuda-cufft-8-0.\n",
            "Preparing to unpack .../13-cuda-cufft-8-0_8.0.61-1_amd64.deb ...\n",
            "Unpacking cuda-cufft-8-0 (8.0.61-1) ...\n",
            "Selecting previously unselected package cuda-cufft-dev-8-0.\n",
            "Preparing to unpack .../14-cuda-cufft-dev-8-0_8.0.61-1_amd64.deb ...\n",
            "Unpacking cuda-cufft-dev-8-0 (8.0.61-1) ...\n",
            "Selecting previously unselected package cuda-curand-8-0.\n",
            "Preparing to unpack .../15-cuda-curand-8-0_8.0.61-1_amd64.deb ...\n",
            "Unpacking cuda-curand-8-0 (8.0.61-1) ...\n",
            "Selecting previously unselected package cuda-curand-dev-8-0.\n",
            "Preparing to unpack .../16-cuda-curand-dev-8-0_8.0.61-1_amd64.deb ...\n",
            "Unpacking cuda-curand-dev-8-0 (8.0.61-1) ...\n",
            "Selecting previously unselected package cuda-cusparse-8-0.\n",
            "Preparing to unpack .../17-cuda-cusparse-8-0_8.0.61-1_amd64.deb ...\n",
            "Unpacking cuda-cusparse-8-0 (8.0.61-1) ...\n",
            "Selecting previously unselected package cuda-cusparse-dev-8-0.\n",
            "Preparing to unpack .../18-cuda-cusparse-dev-8-0_8.0.61-1_amd64.deb ...\n",
            "Unpacking cuda-cusparse-dev-8-0 (8.0.61-1) ...\n",
            "Selecting previously unselected package cuda-npp-8-0.\n",
            "Preparing to unpack .../19-cuda-npp-8-0_8.0.61-1_amd64.deb ...\n",
            "Unpacking cuda-npp-8-0 (8.0.61-1) ...\n",
            "Selecting previously unselected package cuda-npp-dev-8-0.\n",
            "Preparing to unpack .../20-cuda-npp-dev-8-0_8.0.61-1_amd64.deb ...\n",
            "Unpacking cuda-npp-dev-8-0 (8.0.61-1) ...\n",
            "Selecting previously unselected package cuda-samples-8-0.\n",
            "Preparing to unpack .../21-cuda-samples-8-0_8.0.61-1_amd64.deb ...\n",
            "Unpacking cuda-samples-8-0 (8.0.61-1) ...\n",
            "Selecting previously unselected package cuda-documentation-8-0.\n",
            "Preparing to unpack .../22-cuda-documentation-8-0_8.0.61-1_amd64.deb ...\n",
            "Unpacking cuda-documentation-8-0 (8.0.61-1) ...\n",
            "Selecting previously unselected package cuda-nvml-dev-8-0.\n",
            "Preparing to unpack .../23-cuda-nvml-dev-8-0_8.0.61-1_amd64.deb ...\n",
            "Unpacking cuda-nvml-dev-8-0 (8.0.61-1) ...\n",
            "Selecting previously unselected package cuda-nvgraph-8-0.\n",
            "Preparing to unpack .../24-cuda-nvgraph-8-0_8.0.61-1_amd64.deb ...\n",
            "Unpacking cuda-nvgraph-8-0 (8.0.61-1) ...\n",
            "Selecting previously unselected package cuda-nvgraph-dev-8-0.\n",
            "Preparing to unpack .../25-cuda-nvgraph-dev-8-0_8.0.61-1_amd64.deb ...\n",
            "Unpacking cuda-nvgraph-dev-8-0 (8.0.61-1) ...\n",
            "Selecting previously unselected package cuda-visual-tools-8-0.\n",
            "Preparing to unpack .../26-cuda-visual-tools-8-0_8.0.61-1_amd64.deb ...\n",
            "Unpacking cuda-visual-tools-8-0 (8.0.61-1) ...\n",
            "Selecting previously unselected package cuda-toolkit-8-0.\n",
            "Preparing to unpack .../27-cuda-toolkit-8-0_8.0.61-1_amd64.deb ...\n",
            "Unpacking cuda-toolkit-8-0 (8.0.61-1) ...\n",
            "Selecting previously unselected package cuda-runtime-8-0.\n",
            "Preparing to unpack .../28-cuda-runtime-8-0_8.0.61-1_amd64.deb ...\n",
            "Unpacking cuda-runtime-8-0 (8.0.61-1) ...\n",
            "Selecting previously unselected package cuda-demo-suite-8-0.\n",
            "Preparing to unpack .../29-cuda-demo-suite-8-0_8.0.61-1_amd64.deb ...\n",
            "Unpacking cuda-demo-suite-8-0 (8.0.61-1) ...\n",
            "Selecting previously unselected package cuda-8-0.\n",
            "Preparing to unpack .../30-cuda-8-0_8.0.61-1_amd64.deb ...\n",
            "Unpacking cuda-8-0 (8.0.61-1) ...\n",
            "Setting up cuda-license-8-0 (8.0.61-1) ...\n",
            "*** LICENSE AGREEMENT ***\n",
            "By using this software you agree to fully comply with the terms and \n",
            "conditions of the EULA (End User License Agreement). The EULA is located\n",
            "at /usr/local/cuda-8.0/doc/EULA.txt. The EULA can also be found at\n",
            "http://docs.nvidia.com/cuda/eula/index.html. If you do not agree to the\n",
            "terms and conditions of the EULA, do not use the software.\n",
            "\n",
            "Setting up cuda-nvgraph-8-0 (8.0.61-1) ...\n",
            "Setting up cuda-cufft-8-0 (8.0.61-1) ...\n",
            "Setting up cuda-npp-8-0 (8.0.61-1) ...\n",
            "Setting up cuda-nvgraph-dev-8-0 (8.0.61-1) ...\n",
            "Setting up cuda-cudart-8-0 (8.0.61-1) ...\n",
            "Setting up cuda-driver-dev-8-0 (8.0.61-1) ...\n",
            "Setting up cuda-cusolver-8-0 (8.0.61-1) ...\n",
            "Setting up cuda-nvml-dev-8-0 (8.0.61-1) ...\n",
            "Setting up cuda-cufft-dev-8-0 (8.0.61-1) ...\n",
            "Setting up cuda-misc-headers-8-0 (8.0.61-1) ...\n",
            "Setting up cuda-cusparse-8-0 (8.0.61-1) ...\n",
            "Setting up cuda-nvrtc-8-0 (8.0.61-1) ...\n",
            "Setting up cuda-nvrtc-dev-8-0 (8.0.61-1) ...\n",
            "Setting up cuda-curand-8-0 (8.0.61-1) ...\n",
            "Setting up cuda-cublas-8-0 (8.0.61-1) ...\n",
            "Setting up cuda-cusolver-dev-8-0 (8.0.61-1) ...\n",
            "Setting up cuda-core-8-0 (8.0.61-1) ...\n",
            "Setting up cuda-curand-dev-8-0 (8.0.61-1) ...\n",
            "Setting up cuda-npp-dev-8-0 (8.0.61-1) ...\n",
            "Setting up cuda-cudart-dev-8-0 (8.0.61-1) ...\n",
            "Setting up cuda-cublas-dev-8-0 (8.0.61-1) ...\n",
            "Setting up cuda-runtime-8-0 (8.0.61-1) ...\n",
            "Setting up cuda-cusparse-dev-8-0 (8.0.61-1) ...\n",
            "Setting up cuda-command-line-tools-8-0 (8.0.61-1) ...\n",
            "Setting up cuda-demo-suite-8-0 (8.0.61-1) ...\n",
            "Setting up cuda-samples-8-0 (8.0.61-1) ...\n",
            "Setting up cuda-visual-tools-8-0 (8.0.61-1) ...\n",
            "Setting up cuda-documentation-8-0 (8.0.61-1) ...\n",
            "Setting up cuda-toolkit-8-0 (8.0.61-1) ...\n",
            "Setting up cuda-8-0 (8.0.61-1) ...\n",
            "Processing triggers for libc-bin (2.27-3ubuntu1.3) ...\n",
            "/sbin/ldconfig.real: /usr/local/lib/python3.7/dist-packages/ideep4py/lib/libmkldnn.so.0 is not a symbolic link\n",
            "\n"
          ]
        }
      ]
    },
    {
      "cell_type": "code",
      "source": [
        "import os\n",
        "os.environ['PATH'] += ':/usr/local/cuda/bin'"
      ],
      "metadata": {
        "id": "bFokuIR82hzE"
      },
      "execution_count": 20,
      "outputs": []
    },
    {
      "cell_type": "code",
      "source": [
        "!apt install gcc-5 g++-5 -y"
      ],
      "metadata": {
        "colab": {
          "base_uri": "https://localhost:8080/"
        },
        "id": "reb8pB7o2z22",
        "outputId": "d170b178-ef75-47a5-9af1-eb258dd0949b"
      },
      "execution_count": 21,
      "outputs": [
        {
          "output_type": "stream",
          "name": "stdout",
          "text": [
            "Reading package lists... Done\n",
            "Building dependency tree       \n",
            "Reading state information... Done\n",
            "g++-5 is already the newest version (5.5.0-12ubuntu1).\n",
            "gcc-5 is already the newest version (5.5.0-12ubuntu1).\n",
            "0 upgraded, 0 newly installed, 0 to remove and 69 not upgraded.\n"
          ]
        }
      ]
    },
    {
      "cell_type": "code",
      "source": [
        "import os\n",
        "os.environ['PATH'] += ':/usr/local/cuda/bin'"
      ],
      "metadata": {
        "id": "pjkLMXb422lA"
      },
      "execution_count": 22,
      "outputs": []
    },
    {
      "cell_type": "code",
      "source": [
        "!nvcc --version"
      ],
      "metadata": {
        "colab": {
          "base_uri": "https://localhost:8080/"
        },
        "id": "1kzJudJi253I",
        "outputId": "c5030eea-7a31-42cc-934a-25b86b02dc32"
      },
      "execution_count": 23,
      "outputs": [
        {
          "output_type": "stream",
          "name": "stdout",
          "text": [
            "nvcc: NVIDIA (R) Cuda compiler driver\n",
            "Copyright (c) 2005-2016 NVIDIA Corporation\n",
            "Built on Tue_Jan_10_13:22:03_CST_2017\n",
            "Cuda compilation tools, release 8.0, V8.0.61\n"
          ]
        }
      ]
    },
    {
      "cell_type": "code",
      "source": [
        "!apt-get install -y bc"
      ],
      "metadata": {
        "colab": {
          "base_uri": "https://localhost:8080/"
        },
        "id": "OAae42eq28Mc",
        "outputId": "50739ab0-34b7-49e1-adfe-745c4a4e68e9"
      },
      "execution_count": 26,
      "outputs": [
        {
          "output_type": "stream",
          "name": "stdout",
          "text": [
            "Reading package lists... Done\n",
            "Building dependency tree       \n",
            "Reading state information... Done\n",
            "The following NEW packages will be installed:\n",
            "  bc\n",
            "0 upgraded, 1 newly installed, 0 to remove and 69 not upgraded.\n",
            "Need to get 86.2 kB of archives.\n",
            "After this operation, 223 kB of additional disk space will be used.\n",
            "Get:1 http://archive.ubuntu.com/ubuntu bionic/main amd64 bc amd64 1.07.1-2 [86.2 kB]\n",
            "Fetched 86.2 kB in 1s (107 kB/s)\n",
            "Selecting previously unselected package bc.\n",
            "(Reading database ... 169356 files and directories currently installed.)\n",
            "Preparing to unpack .../archives/bc_1.07.1-2_amd64.deb ...\n",
            "Unpacking bc (1.07.1-2) ...\n",
            "Setting up bc (1.07.1-2) ...\n",
            "Processing triggers for man-db (2.8.3-2ubuntu0.1) ...\n"
          ]
        }
      ]
    },
    {
      "cell_type": "code",
      "source": [
        ""
      ],
      "metadata": {
        "id": "HkRity3H3siA"
      },
      "execution_count": null,
      "outputs": []
    }
  ]
}